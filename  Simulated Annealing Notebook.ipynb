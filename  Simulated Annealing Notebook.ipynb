{
 "cells": [
  {
   "cell_type": "markdown",
   "metadata": {},
   "source": [
    "<p style=\"font-size:20px\">Using Simulated Annealing to solve an assignment problem</p>\n",
    "<p style=\"font-size:16px\">The goal is to assign 7 clients to specific depots/locations at minimum cost such that only 3 depots are utilized. There is a cost associated with each specific client/depot combination. </p>"
   ]
  },
  {
   "cell_type": "markdown",
   "metadata": {},
   "source": [
    "<p style=\"font-size:20px\">Import libraries</p>"
   ]
  },
  {
   "cell_type": "code",
   "execution_count": 29,
   "metadata": {
    "collapsed": true
   },
   "outputs": [],
   "source": [
    "import random\n",
    "import math\n",
    "from copy import deepcopy"
   ]
  },
  {
   "cell_type": "markdown",
   "metadata": {},
   "source": [
    "<p style=\"font-size:20px\">Goal Function</p>\n",
    "<p style=\"font-size:16px\">This function evaluates the total cost of the client assignment/configuration. \n",
    "If the number of depots utilized is greater than 3, a penalty is imposed at a rate of alpha for each\n",
    "depot over 3.</p>"
   ]
  },
  {
   "cell_type": "code",
   "execution_count": 30,
   "metadata": {
    "collapsed": true
   },
   "outputs": [],
   "source": [
    "def goal(Cost, clients):\n",
    "    total = 0\n",
    "    alpha = 100\n",
    "    for i,j in clients:\n",
    "        total += Cost[j][i]\n",
    "        \n",
    "    # PENALTY FOR MORE THAN 3 DEPOTS\n",
    "    open_depots = []\n",
    "    for i,j in clients:\n",
    "        open_depots.append(j)\n",
    "    depot_penalty = (len(set(open_depots)))\n",
    "    if depot_penalty > 3:\n",
    "        total += alpha*(depot_penalty-3)\n",
    "    return (total)"
   ]
  },
  {
   "cell_type": "markdown",
   "metadata": {},
   "source": [
    "<p style=\"font-size:20px\">Define function to assign clients to a random depot</p>"
   ]
  },
  {
   "cell_type": "code",
   "execution_count": 31,
   "metadata": {
    "collapsed": true
   },
   "outputs": [],
   "source": [
    "def assign_client(clients):\n",
    "    # Generate a random number between 0 and 1. Use this number to pick a client\n",
    "    # and randomly assign it to a new depot\n",
    "    clients1 = deepcopy(clients)\n",
    "    rand = random.random()\n",
    "\n",
    "    other_depots = [0,1,2,3,4,5]\n",
    "    if rand >= 0 and rand < (1/7):\n",
    "        #assign client 1 to a new, random depot\n",
    "        del other_depots[clients1[0][1]]\n",
    "        clients1[0][1] = random.choice(other_depots)\n",
    "    if rand >= (1/7) and rand < (2/7):\n",
    "        #assign client 2 to a new, random depot\n",
    "        del other_depots[clients1[1][1]]\n",
    "        clients1[1][1] = random.choice(other_depots)\n",
    "    if rand >= (2/7) and rand < (3/7):\n",
    "        #assign client 3 to a new, random depot\n",
    "        del other_depots[clients1[2][1]]\n",
    "        clients1[2][1] = random.choice(other_depots)\n",
    "    if rand >= (3/7) and rand < (4/7):\n",
    "        #assign client 4 to a new, random depot\n",
    "        del other_depots[clients1[3][1]]\n",
    "        clients1[3][1] = random.choice(other_depots)\n",
    "    if rand >= (4/7) and rand < (5/7):\n",
    "        #assign client 5 to a new, random depot\n",
    "        del other_depots[clients1[4][1]]\n",
    "        clients1[4][1] = random.choice(other_depots)\n",
    "    if rand >= (5/7) and rand < (6/7):\n",
    "        #assign client 6 to a new, random depot\n",
    "        del other_depots[clients1[5][1]]\n",
    "        clients1[5][1] = random.choice(other_depots)\n",
    "    if rand >= (6/7):\n",
    "        #assign client 7 to a new, random depot\n",
    "        del other_depots[clients1[6][1]]\n",
    "        clients1[6][1] = random.choice(other_depots)\n",
    "\n",
    "    return (clients1)"
   ]
  },
  {
   "cell_type": "markdown",
   "metadata": {},
   "source": [
    "<p style=\"font-size:20px\">Define cost matrix and initial client/depot assignments</p>"
   ]
  },
  {
   "cell_type": "code",
   "execution_count": 38,
   "metadata": {
    "collapsed": true
   },
   "outputs": [],
   "source": [
    "# Transposed Cost matrix:\n",
    "Cost = {0:[2,3,6,8,4,2,6],\n",
    "        1:[3,1,2,1,4,8,5],\n",
    "        2:[7,1,3,4,3,3,3],\n",
    "        3:[3,8,1,6,3,6,2],\n",
    "        4:[6,10,2,2,4,3,7],\n",
    "        5:[1,4,7,3,3,2,4]}\n",
    "\n",
    "# Clients are represented as client number and then the depot they are assigned to\n",
    "# Client 0 is actually client 1 and depot 1 actually represents depot 2.\n",
    "\n",
    "clients = [[0,0],\n",
    "           [1,1],\n",
    "           [2,2],\n",
    "           [3,3],\n",
    "           [4,4],\n",
    "           [5,5],\n",
    "           [6,1]]"
   ]
  },
  {
   "cell_type": "markdown",
   "metadata": {},
   "source": [
    "<p style=\"font-size:20px\">Simulated Annealing:</p>\n",
    "<p style=\"font-size:16px\">Begin with random assignments for clients/depots (done above). Make a random change to the assignment and evaluate the goal function. The new assignment replaces the incumbant solution with probability 1 if the new one has a better goal value, and with some probability between 0 and 1 if it has a worse goal value. </p>\n",
    "<p style=\"font-size:16px\">The probability of accepting a worse solution is proportional to the difference in goal values, so slightly worse solutions have a high probability of being accepted, while much worse solutions will only be accepted infrequently. Therefore if the number of iterations is sufficiently large, it means that one can move away from any local minimum. However, for the process to converge in the long run, the probability of accepting worse solutions decreases over time, so the algorithm should end up converging at a \"good\" local minimum.</p>\n",
    "<p style=\"font-size:16px\">Note that delta represents the change in the goal value. The larger delta is, the less chance there is of making a move to a solution worse by delta. Also, as the temperature (T) decreases, the chances of making a move to a worse solution decrease.</p>"
   ]
  },
  {
   "cell_type": "code",
   "execution_count": 39,
   "metadata": {
    "collapsed": false
   },
   "outputs": [
    {
     "name": "stdout",
     "output_type": "stream",
     "text": [
      "Initial Client Assignments: [[0, 0], [1, 1], [2, 2], [3, 3], [4, 4], [5, 5], [6, 1]]\n",
      "Initial Objective: 323\n",
      "----------------------------------------------------------------------------\n",
      "----------------------------------------------------------------------------\n",
      "New assignment gives better goal function value. Its delta is: -96\n",
      "Old depot assignments: [[0, 0], [1, 1], [2, 2], [3, 3], [4, 4], [5, 5], [6, 1]]\n",
      "New depot assignments: [[0, 0], [1, 1], [2, 2], [3, 3], [4, 4], [5, 3], [6, 1]]\n",
      "Objective: 227\n",
      "----------------------------------------------------------------------------\n",
      "New assignment gives better goal function value. Its delta is: -101\n",
      "Old depot assignments: [[0, 0], [1, 1], [2, 2], [3, 3], [4, 4], [5, 3], [6, 1]]\n",
      "New depot assignments: [[0, 0], [1, 1], [2, 2], [3, 3], [4, 3], [5, 3], [6, 1]]\n",
      "Objective: 126\n",
      "----------------------------------------------------------------------------\n",
      "New assignment gives better goal function value. Its delta is: -4\n",
      "Old depot assignments: [[0, 0], [1, 1], [2, 2], [3, 3], [4, 3], [5, 3], [6, 1]]\n",
      "New depot assignments: [[0, 0], [1, 1], [2, 2], [3, 3], [4, 3], [5, 0], [6, 1]]\n",
      "Objective: 122\n",
      "----------------------------------------------------------------------------\n",
      "New assignment gives better goal function value. Its delta is: -97\n",
      "Old depot assignments: [[0, 0], [1, 1], [2, 2], [3, 3], [4, 3], [5, 0], [6, 1]]\n",
      "New depot assignments: [[0, 0], [1, 1], [2, 0], [3, 3], [4, 3], [5, 0], [6, 1]]\n",
      "Objective: 25\n",
      "***************************PROBABILITY UPDATE*******************************\n",
      "Choosing a worse solution with a probability of 0.8838598318931835\n",
      "Old depot assignments: [[0, 0], [1, 1], [2, 0], [3, 3], [4, 3], [5, 0], [6, 1]]\n",
      "New depot assignments: [[0, 0], [1, 1], [2, 0], [3, 3], [4, 0], [5, 0], [6, 1]]\n",
      "Objective: 26\n",
      "----------------------------------------------------------------------------\n",
      "New assignment gives better goal function value. Its delta is: -1\n",
      "Old depot assignments: [[0, 0], [1, 1], [2, 0], [3, 3], [4, 0], [5, 0], [6, 1]]\n",
      "New depot assignments: [[0, 0], [1, 1], [2, 0], [3, 3], [4, 3], [5, 0], [6, 1]]\n",
      "Objective: 25\n",
      "***************************PROBABILITY UPDATE*******************************\n",
      "Choosing a worse solution with a probability of 0.7372475307585185\n",
      "Old depot assignments: [[0, 0], [1, 1], [2, 0], [3, 3], [4, 3], [5, 0], [6, 1]]\n",
      "New depot assignments: [[0, 0], [1, 1], [2, 0], [3, 0], [4, 3], [5, 0], [6, 1]]\n",
      "Objective: 27\n",
      "----------------------------------------------------------------------------\n",
      "New assignment gives better goal function value. Its delta is: 0\n",
      "Old depot assignments: [[0, 0], [1, 1], [2, 0], [3, 0], [4, 3], [5, 0], [6, 1]]\n",
      "New depot assignments: [[0, 0], [1, 1], [2, 0], [3, 0], [4, 2], [5, 0], [6, 1]]\n",
      "Objective: 27\n",
      "----------------------------------------------------------------------------\n",
      "New assignment gives better goal function value. Its delta is: 0\n",
      "Old depot assignments: [[0, 0], [1, 1], [2, 0], [3, 0], [4, 2], [5, 0], [6, 1]]\n",
      "New depot assignments: [[0, 0], [1, 1], [2, 0], [3, 0], [4, 5], [5, 0], [6, 1]]\n",
      "Objective: 27\n",
      "----------------------------------------------------------------------------\n",
      "New assignment gives better goal function value. Its delta is: -4\n",
      "Old depot assignments: [[0, 0], [1, 1], [2, 0], [3, 0], [4, 5], [5, 0], [6, 1]]\n",
      "New depot assignments: [[0, 0], [1, 1], [2, 1], [3, 0], [4, 5], [5, 0], [6, 1]]\n",
      "Objective: 23\n",
      "----------------------------------------------------------------------------\n",
      "New assignment gives better goal function value. Its delta is: -1\n",
      "Old depot assignments: [[0, 0], [1, 1], [2, 1], [3, 0], [4, 5], [5, 0], [6, 1]]\n",
      "New depot assignments: [[0, 0], [1, 1], [2, 1], [3, 0], [4, 5], [5, 0], [6, 5]]\n",
      "Objective: 22\n",
      "----------------------------------------------------------------------------\n",
      "New assignment gives better goal function value. Its delta is: -1\n",
      "Old depot assignments: [[0, 0], [1, 1], [2, 1], [3, 0], [4, 5], [5, 0], [6, 5]]\n",
      "New depot assignments: [[0, 5], [1, 1], [2, 1], [3, 0], [4, 5], [5, 0], [6, 5]]\n",
      "Objective: 21\n",
      "***************************PROBABILITY UPDATE*******************************\n",
      "Choosing a worse solution with a probability of 0.7506639487413609\n",
      "Old depot assignments: [[0, 5], [1, 1], [2, 1], [3, 0], [4, 5], [5, 0], [6, 5]]\n",
      "New depot assignments: [[0, 5], [1, 1], [2, 1], [3, 0], [4, 0], [5, 0], [6, 5]]\n",
      "Objective: 22\n",
      "----------------------------------------------------------------------------\n",
      "New assignment gives better goal function value. Its delta is: -7\n",
      "Old depot assignments: [[0, 5], [1, 1], [2, 1], [3, 0], [4, 0], [5, 0], [6, 5]]\n",
      "New depot assignments: [[0, 5], [1, 1], [2, 1], [3, 1], [4, 0], [5, 0], [6, 5]]\n",
      "Objective: 15\n",
      "----------------------------------------------------------------------------\n",
      "New assignment gives better goal function value. Its delta is: -1\n",
      "Old depot assignments: [[0, 5], [1, 1], [2, 1], [3, 1], [4, 0], [5, 0], [6, 5]]\n",
      "New depot assignments: [[0, 5], [1, 1], [2, 1], [3, 1], [4, 5], [5, 0], [6, 5]]\n",
      "Objective: 14\n",
      "***************************PROBABILITY UPDATE*******************************\n",
      "Choosing a worse solution with a probability of 0.3785575576403426\n",
      "Old depot assignments: [[0, 5], [1, 1], [2, 1], [3, 1], [4, 5], [5, 0], [6, 5]]\n",
      "New depot assignments: [[0, 5], [1, 0], [2, 1], [3, 1], [4, 5], [5, 0], [6, 5]]\n",
      "Objective: 16\n",
      "***************************PROBABILITY UPDATE*******************************\n",
      "Choosing a worse solution with a probability of 0.3398268501108745\n",
      "Old depot assignments: [[0, 5], [1, 0], [2, 1], [3, 1], [4, 5], [5, 0], [6, 5]]\n",
      "New depot assignments: [[0, 1], [1, 0], [2, 1], [3, 1], [4, 5], [5, 0], [6, 5]]\n",
      "Objective: 18\n",
      "----------------------------------------------------------------------------\n",
      "New assignment gives better goal function value. Its delta is: -1\n",
      "Old depot assignments: [[0, 1], [1, 0], [2, 1], [3, 1], [4, 5], [5, 0], [6, 5]]\n",
      "New depot assignments: [[0, 0], [1, 0], [2, 1], [3, 1], [4, 5], [5, 0], [6, 5]]\n",
      "Objective: 17\n",
      "----------------------------------------------------------------------------\n",
      "New assignment gives better goal function value. Its delta is: -2\n",
      "Old depot assignments: [[0, 0], [1, 0], [2, 1], [3, 1], [4, 5], [5, 0], [6, 5]]\n",
      "New depot assignments: [[0, 0], [1, 1], [2, 1], [3, 1], [4, 5], [5, 0], [6, 5]]\n",
      "Objective: 15\n",
      "***************************PROBABILITY UPDATE*******************************\n",
      "Choosing a worse solution with a probability of 0.40095015991635263\n",
      "Old depot assignments: [[0, 0], [1, 1], [2, 1], [3, 1], [4, 5], [5, 0], [6, 5]]\n",
      "New depot assignments: [[0, 0], [1, 1], [2, 1], [3, 1], [4, 5], [5, 0], [6, 1]]\n",
      "Objective: 16\n",
      "***************************PROBABILITY UPDATE*******************************\n",
      "Choosing a worse solution with a probability of 0.40095015991635263\n",
      "Old depot assignments: [[0, 0], [1, 1], [2, 1], [3, 1], [4, 5], [5, 0], [6, 1]]\n",
      "New depot assignments: [[0, 1], [1, 1], [2, 1], [3, 1], [4, 5], [5, 0], [6, 1]]\n",
      "Objective: 17\n",
      "----------------------------------------------------------------------------\n",
      "New assignment gives better goal function value. Its delta is: 0\n",
      "Old depot assignments: [[0, 1], [1, 1], [2, 1], [3, 1], [4, 5], [5, 0], [6, 1]]\n",
      "New depot assignments: [[0, 1], [1, 1], [2, 1], [3, 1], [4, 3], [5, 0], [6, 1]]\n",
      "Objective: 17\n",
      "----------------------------------------------------------------------------\n",
      "New assignment gives better goal function value. Its delta is: 0\n",
      "Old depot assignments: [[0, 1], [1, 1], [2, 1], [3, 1], [4, 3], [5, 0], [6, 1]]\n",
      "New depot assignments: [[0, 3], [1, 1], [2, 1], [3, 1], [4, 3], [5, 0], [6, 1]]\n",
      "Objective: 17\n",
      "----------------------------------------------------------------------------\n",
      "New assignment gives better goal function value. Its delta is: -3\n",
      "Old depot assignments: [[0, 3], [1, 1], [2, 1], [3, 1], [4, 3], [5, 0], [6, 1]]\n",
      "New depot assignments: [[0, 3], [1, 1], [2, 1], [3, 1], [4, 3], [5, 0], [6, 3]]\n",
      "Objective: 14\n",
      "----------------------------------------------------------------------------\n",
      "New assignment gives better goal function value. Its delta is: 0\n",
      "Old depot assignments: [[0, 3], [1, 1], [2, 1], [3, 1], [4, 3], [5, 0], [6, 3]]\n",
      "New depot assignments: [[0, 1], [1, 1], [2, 1], [3, 1], [4, 3], [5, 0], [6, 3]]\n",
      "Objective: 14\n",
      "----------------------------------------------------------------------------\n",
      "New assignment gives better goal function value. Its delta is: -1\n",
      "Old depot assignments: [[0, 1], [1, 1], [2, 1], [3, 1], [4, 3], [5, 0], [6, 3]]\n",
      "New depot assignments: [[0, 0], [1, 1], [2, 1], [3, 1], [4, 3], [5, 0], [6, 3]]\n",
      "Objective: 13\n",
      "----------------------------------------------------------------------------\n",
      "New assignment gives better goal function value. Its delta is: -1\n",
      "Old depot assignments: [[0, 0], [1, 1], [2, 1], [3, 1], [4, 3], [5, 0], [6, 3]]\n",
      "New depot assignments: [[0, 0], [1, 1], [2, 3], [3, 1], [4, 3], [5, 0], [6, 3]]\n",
      "Objective: 12\n",
      "The best solution found had an objective of 12       \n",
      "and assignments of [[0, 0], [1, 1], [2, 3], [3, 1], [4, 3], [5, 0], [6, 3]]\n"
     ]
    }
   ],
   "source": [
    "T = 10\n",
    "r = 0.90\n",
    "L = 2\n",
    "best_solution = (['placeholder'],1000)\n",
    "# while not yet frozen\n",
    "print (\"Initial Client Assignments: {0}\".format(clients))\n",
    "print (\"Initial Objective: {0}\".format(goal(Cost, clients)))\n",
    "print (\"----------------------------------------------------------------------------\")\n",
    "while T > .01:\n",
    "    while L > 0:\n",
    "        clients_prime = assign_client(clients)\n",
    "        delta = goal(Cost, clients_prime) - goal(Cost, clients)\n",
    "        if delta <= 0:\n",
    "            print (\"----------------------------------------------------------------------------\")\n",
    "            print (\"New assignment gives better goal function value. Its delta is: {0}\".format(delta))\n",
    "            print (\"Old depot assignments: {0}\".format(clients))\n",
    "            print (\"New depot assignments: {0}\".format(clients_prime))\n",
    "            clients = clients_prime\n",
    "            print (\"Objective: {0}\".format(goal(Cost, clients)))\n",
    "            if goal(Cost, clients) < best_solution[1]:\n",
    "                best_solution = (clients, goal(Cost, clients))\n",
    "            \n",
    "        elif random.random() <= math.e**((-1*delta)/T):\n",
    "            print (\"***************************PROBABILITY UPDATE*******************************\")\n",
    "            print (\"Choosing a worse solution with a probability of {0}\".format(math.e**((-1*delta)/T)))\n",
    "            print (\"Old depot assignments: {0}\".format(clients))\n",
    "            print (\"New depot assignments: {0}\".format(clients_prime))\n",
    "            clients = clients_prime\n",
    "            print (\"Objective: {0}\".format(goal(Cost, clients)))\n",
    "            \n",
    "        L = L - 1\n",
    "        #print (L)\n",
    "    L = 2\n",
    "    #print (T)\n",
    "    T = T*r\n",
    "print (\"The best solution found had an objective of {0}\\\n",
    "       \\nand assignments of {1}\".format(best_solution[1], best_solution[0]))"
   ]
  },
  {
   "cell_type": "code",
   "execution_count": null,
   "metadata": {
    "collapsed": true
   },
   "outputs": [],
   "source": []
  },
  {
   "cell_type": "code",
   "execution_count": null,
   "metadata": {
    "collapsed": true
   },
   "outputs": [],
   "source": []
  },
  {
   "cell_type": "code",
   "execution_count": null,
   "metadata": {
    "collapsed": true
   },
   "outputs": [],
   "source": []
  },
  {
   "cell_type": "code",
   "execution_count": null,
   "metadata": {
    "collapsed": true
   },
   "outputs": [],
   "source": []
  },
  {
   "cell_type": "code",
   "execution_count": null,
   "metadata": {
    "collapsed": true
   },
   "outputs": [],
   "source": []
  },
  {
   "cell_type": "code",
   "execution_count": null,
   "metadata": {
    "collapsed": true
   },
   "outputs": [],
   "source": []
  },
  {
   "cell_type": "code",
   "execution_count": null,
   "metadata": {
    "collapsed": true
   },
   "outputs": [],
   "source": []
  },
  {
   "cell_type": "code",
   "execution_count": null,
   "metadata": {
    "collapsed": true
   },
   "outputs": [],
   "source": []
  }
 ],
 "metadata": {
  "kernelspec": {
   "display_name": "Python [Root]",
   "language": "python",
   "name": "Python [Root]"
  },
  "language_info": {
   "codemirror_mode": {
    "name": "ipython",
    "version": 3
   },
   "file_extension": ".py",
   "mimetype": "text/x-python",
   "name": "python",
   "nbconvert_exporter": "python",
   "pygments_lexer": "ipython3",
   "version": "3.5.1"
  }
 },
 "nbformat": 4,
 "nbformat_minor": 0
}
